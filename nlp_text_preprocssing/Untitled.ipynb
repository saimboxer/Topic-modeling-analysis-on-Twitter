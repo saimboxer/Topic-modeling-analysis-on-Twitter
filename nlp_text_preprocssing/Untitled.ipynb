{
 "cells": [
  {
   "cell_type": "code",
   "execution_count": 1,
   "id": "4e120d5c",
   "metadata": {},
   "outputs": [],
   "source": [
    "import pandas as pd"
   ]
  },
  {
   "cell_type": "code",
   "execution_count": 7,
   "id": "759f4ed5",
   "metadata": {},
   "outputs": [],
   "source": [
    "#reading .txt file\n",
    "text = pd.read_csv(\"sample.txt\",header=None)"
   ]
  },
  {
   "cell_type": "code",
   "execution_count": 8,
   "id": "9914cb9a",
   "metadata": {},
   "outputs": [
    {
     "data": {
      "text/html": [
       "<div>\n",
       "<style scoped>\n",
       "    .dataframe tbody tr th:only-of-type {\n",
       "        vertical-align: middle;\n",
       "    }\n",
       "\n",
       "    .dataframe tbody tr th {\n",
       "        vertical-align: top;\n",
       "    }\n",
       "\n",
       "    .dataframe thead th {\n",
       "        text-align: right;\n",
       "    }\n",
       "</style>\n",
       "<table border=\"1\" class=\"dataframe\">\n",
       "  <thead>\n",
       "    <tr style=\"text-align: right;\">\n",
       "      <th></th>\n",
       "      <th>0</th>\n",
       "    </tr>\n",
       "  </thead>\n",
       "  <tbody>\n",
       "    <tr>\n",
       "      <th>0</th>\n",
       "      <td>low saim</td>\n",
       "    </tr>\n",
       "    <tr>\n",
       "      <th>1</th>\n",
       "      <td>low</td>\n",
       "    </tr>\n",
       "    <tr>\n",
       "      <th>2</th>\n",
       "      <td>low</td>\n",
       "    </tr>\n",
       "    <tr>\n",
       "      <th>3</th>\n",
       "      <td>low adil</td>\n",
       "    </tr>\n",
       "    <tr>\n",
       "      <th>4</th>\n",
       "      <td>low</td>\n",
       "    </tr>\n",
       "    <tr>\n",
       "      <th>5</th>\n",
       "      <td>lower</td>\n",
       "    </tr>\n",
       "    <tr>\n",
       "      <th>6</th>\n",
       "      <td>lower</td>\n",
       "    </tr>\n",
       "    <tr>\n",
       "      <th>7</th>\n",
       "      <td>newest</td>\n",
       "    </tr>\n",
       "    <tr>\n",
       "      <th>8</th>\n",
       "      <td>newest</td>\n",
       "    </tr>\n",
       "    <tr>\n",
       "      <th>9</th>\n",
       "      <td>newest</td>\n",
       "    </tr>\n",
       "    <tr>\n",
       "      <th>10</th>\n",
       "      <td>newest</td>\n",
       "    </tr>\n",
       "    <tr>\n",
       "      <th>11</th>\n",
       "      <td>newest</td>\n",
       "    </tr>\n",
       "    <tr>\n",
       "      <th>12</th>\n",
       "      <td>newest</td>\n",
       "    </tr>\n",
       "    <tr>\n",
       "      <th>13</th>\n",
       "      <td>widest</td>\n",
       "    </tr>\n",
       "    <tr>\n",
       "      <th>14</th>\n",
       "      <td>widest</td>\n",
       "    </tr>\n",
       "    <tr>\n",
       "      <th>15</th>\n",
       "      <td>widest</td>\n",
       "    </tr>\n",
       "  </tbody>\n",
       "</table>\n",
       "</div>"
      ],
      "text/plain": [
       "           0\n",
       "0   low saim\n",
       "1        low\n",
       "2        low\n",
       "3   low adil\n",
       "4        low\n",
       "5      lower\n",
       "6      lower\n",
       "7     newest\n",
       "8     newest\n",
       "9     newest\n",
       "10    newest\n",
       "11    newest\n",
       "12    newest\n",
       "13    widest\n",
       "14    widest\n",
       "15    widest"
      ]
     },
     "execution_count": 8,
     "metadata": {},
     "output_type": "execute_result"
    }
   ],
   "source": [
    "text"
   ]
  },
  {
   "cell_type": "code",
   "execution_count": 9,
   "id": "4d468222",
   "metadata": {},
   "outputs": [
    {
     "name": "stdout",
     "output_type": "stream",
     "text": [
      "['low', 'saim']\n",
      "['low']\n",
      "['low', 'saim']\n",
      "['low']\n",
      "['low', 'saim', 'low']\n",
      "['low']\n",
      "['low', 'saim', 'low', 'low']\n",
      "['low', 'adil']\n",
      "['low', 'saim', 'low', 'low', 'low']\n",
      "['low', 'saim', 'low', 'low', 'low', 'adil']\n",
      "['low']\n",
      "['low', 'saim', 'low', 'low', 'low', 'adil', 'low']\n",
      "['lower']\n",
      "['low', 'saim', 'low', 'low', 'low', 'adil', 'low', 'lower']\n",
      "['lower']\n",
      "['low', 'saim', 'low', 'low', 'low', 'adil', 'low', 'lower', 'lower']\n",
      "['newest']\n",
      "['low', 'saim', 'low', 'low', 'low', 'adil', 'low', 'lower', 'lower', 'newest']\n",
      "['newest']\n",
      "['low', 'saim', 'low', 'low', 'low', 'adil', 'low', 'lower', 'lower', 'newest', 'newest']\n",
      "['newest']\n",
      "['low', 'saim', 'low', 'low', 'low', 'adil', 'low', 'lower', 'lower', 'newest', 'newest', 'newest']\n",
      "['newest']\n",
      "['low', 'saim', 'low', 'low', 'low', 'adil', 'low', 'lower', 'lower', 'newest', 'newest', 'newest', 'newest']\n",
      "['newest']\n",
      "['low', 'saim', 'low', 'low', 'low', 'adil', 'low', 'lower', 'lower', 'newest', 'newest', 'newest', 'newest', 'newest']\n",
      "['newest']\n",
      "['low', 'saim', 'low', 'low', 'low', 'adil', 'low', 'lower', 'lower', 'newest', 'newest', 'newest', 'newest', 'newest', 'newest']\n",
      "['widest']\n",
      "['low', 'saim', 'low', 'low', 'low', 'adil', 'low', 'lower', 'lower', 'newest', 'newest', 'newest', 'newest', 'newest', 'newest', 'widest']\n",
      "['widest']\n",
      "['low', 'saim', 'low', 'low', 'low', 'adil', 'low', 'lower', 'lower', 'newest', 'newest', 'newest', 'newest', 'newest', 'newest', 'widest', 'widest']\n",
      "['widest']\n",
      "['low', 'saim', 'low', 'low', 'low', 'adil', 'low', 'lower', 'lower', 'newest', 'newest', 'newest', 'newest', 'newest', 'newest', 'widest', 'widest', 'widest']\n"
     ]
    }
   ],
   "source": [
    "#converting a dataframe into a single list \n",
    "corpus=[]\n",
    "for row in text.values:\n",
    "    tokens = row[0].split(\" \")\n",
    "    print(tokens)\n",
    "    for token in tokens:\n",
    "        corpus.append(token)\n",
    "        print(corpus)\n",
    "\n",
    "# vocab = list(set(\" \".join(corpus)))\n",
    "# vocab.remove(' ')"
   ]
  },
  {
   "cell_type": "code",
   "execution_count": 10,
   "id": "d5b41a63",
   "metadata": {},
   "outputs": [
    {
     "data": {
      "text/plain": [
       "['o', 'l', 'm', 'n', ' ', 's', 'd', 'w', 'a', 'e', 't', 'i', 'r']"
      ]
     },
     "execution_count": 10,
     "metadata": {},
     "output_type": "execute_result"
    }
   ],
   "source": [
    "vocab = list(set(\" \".join(corpus)))\n",
    "vocab"
   ]
  },
  {
   "cell_type": "code",
   "execution_count": 12,
   "id": "0740f72d",
   "metadata": {},
   "outputs": [],
   "source": [
    "vocab.remove(' ')"
   ]
  },
  {
   "cell_type": "code",
   "execution_count": 13,
   "id": "a03eadd8",
   "metadata": {},
   "outputs": [
    {
     "data": {
      "text/plain": [
       "['o', 'l', 'm', 'n', 's', 'd', 'w', 'a', 'e', 't', 'i', 'r']"
      ]
     },
     "execution_count": 13,
     "metadata": {},
     "output_type": "execute_result"
    }
   ],
   "source": [
    "vocab"
   ]
  },
  {
   "cell_type": "code",
   "execution_count": 14,
   "id": "66c97c77",
   "metadata": {},
   "outputs": [],
   "source": [
    "#split the word into characters\n",
    "corpus = [\" \".join(token) for token in corpus]"
   ]
  },
  {
   "cell_type": "code",
   "execution_count": 15,
   "id": "7a1e503e",
   "metadata": {},
   "outputs": [
    {
     "data": {
      "text/plain": [
       "['l   o   w',\n",
       " 's   a   i   m',\n",
       " 'l   o   w',\n",
       " 'l   o   w',\n",
       " 'l   o   w',\n",
       " 'a   d   i   l',\n",
       " 'l   o   w',\n",
       " 'l   o   w   e   r',\n",
       " 'l   o   w   e   r',\n",
       " 'n   e   w   e   s   t',\n",
       " 'n   e   w   e   s   t',\n",
       " 'n   e   w   e   s   t',\n",
       " 'n   e   w   e   s   t',\n",
       " 'n   e   w   e   s   t',\n",
       " 'n   e   w   e   s   t',\n",
       " 'w   i   d   e   s   t',\n",
       " 'w   i   d   e   s   t',\n",
       " 'w   i   d   e   s   t']"
      ]
     },
     "execution_count": 15,
     "metadata": {},
     "output_type": "execute_result"
    }
   ],
   "source": [
    "corpus"
   ]
  },
  {
   "cell_type": "code",
   "execution_count": 18,
   "id": "e253b8d1",
   "metadata": {},
   "outputs": [
    {
     "data": {
      "text/plain": [
       "'widest'"
      ]
     },
     "execution_count": 18,
     "metadata": {},
     "output_type": "execute_result"
    }
   ],
   "source": [
    "token"
   ]
  },
  {
   "cell_type": "code",
   "execution_count": 16,
   "id": "b187434a",
   "metadata": {},
   "outputs": [
    {
     "name": "stdout",
     "output_type": "stream",
     "text": [
      "['l   o   w </w>', 's   a   i   m </w>', 'l   o   w </w>', 'l   o   w </w>', 'l   o   w </w>', 'a   d   i   l </w>', 'l   o   w </w>', 'l   o   w   e   r </w>', 'l   o   w   e   r </w>', 'n   e   w   e   s   t </w>', 'n   e   w   e   s   t </w>', 'n   e   w   e   s   t </w>', 'n   e   w   e   s   t </w>', 'n   e   w   e   s   t </w>', 'n   e   w   e   s   t </w>', 'w   i   d   e   s   t </w>', 'w   i   d   e   s   t </w>', 'w   i   d   e   s   t </w>']\n"
     ]
    }
   ],
   "source": [
    "#appending </w>\n",
    "corpus=[token+' </w>' for token in corpus]\n",
    "print(corpus)"
   ]
  },
  {
   "cell_type": "code",
   "execution_count": 20,
   "id": "467bc1ed",
   "metadata": {},
   "outputs": [
    {
     "name": "stdout",
     "output_type": "stream",
     "text": [
      "False\n"
     ]
    }
   ],
   "source": [
    "Str1 = \"Back\"\n",
    "Str2 = \"Book\"\n",
    "Result = Str1 == Str2\n",
    "print(Result)"
   ]
  },
  {
   "cell_type": "code",
   "execution_count": 21,
   "id": "e4b93ace",
   "metadata": {},
   "outputs": [
    {
     "name": "stdout",
     "output_type": "stream",
     "text": [
      "Collecting LevenshteinNote: you may need to restart the kernel to use updated packages.\n",
      "\n",
      "  Downloading Levenshtein-0.21.1-cp310-cp310-win_amd64.whl (100 kB)\n",
      "     -------------------------------------- 101.0/101.0 kB 1.4 MB/s eta 0:00:00\n",
      "Collecting rapidfuzz<4.0.0,>=2.3.0\n",
      "  Downloading rapidfuzz-3.1.1-cp310-cp310-win_amd64.whl (1.8 MB)\n",
      "     ---------------------------------------- 1.8/1.8 MB 2.9 MB/s eta 0:00:00\n",
      "Installing collected packages: rapidfuzz, Levenshtein\n",
      "Successfully installed Levenshtein-0.21.1 rapidfuzz-3.1.1\n"
     ]
    }
   ],
   "source": [
    "pip install Levenshtein"
   ]
  },
  {
   "cell_type": "code",
   "execution_count": 22,
   "id": "d7be8f6c",
   "metadata": {},
   "outputs": [
    {
     "data": {
      "text/plain": [
       "2"
      ]
     },
     "execution_count": 22,
     "metadata": {},
     "output_type": "execute_result"
    }
   ],
   "source": [
    "import Levenshtein as lev\n",
    "Str1 = \"Back\"\n",
    "Str2 = \"Book\"\n",
    "lev.distance(Str1.lower(),Str2.lower())"
   ]
  },
  {
   "cell_type": "code",
   "execution_count": 23,
   "id": "7212c505",
   "metadata": {},
   "outputs": [
    {
     "name": "stdout",
     "output_type": "stream",
     "text": [
      "Collecting fuzzywuzzyNote: you may need to restart the kernel to use updated packages.\n",
      "\n",
      "  Downloading fuzzywuzzy-0.18.0-py2.py3-none-any.whl (18 kB)\n",
      "Installing collected packages: fuzzywuzzy\n",
      "Successfully installed fuzzywuzzy-0.18.0\n"
     ]
    }
   ],
   "source": [
    "pip install fuzzywuzzy"
   ]
  },
  {
   "cell_type": "code",
   "execution_count": 24,
   "id": "ea04deae",
   "metadata": {},
   "outputs": [
    {
     "name": "stdout",
     "output_type": "stream",
     "text": [
      "50\n"
     ]
    }
   ],
   "source": [
    "from fuzzywuzzy import fuzz\n",
    "Str1 = \"Back\"\n",
    "Str2 = \"Book\"\n",
    "Ratio = fuzz.ratio(Str1.lower(),Str2.lower())\n",
    "print(Ratio)"
   ]
  },
  {
   "cell_type": "code",
   "execution_count": 25,
   "id": "123d39c4",
   "metadata": {},
   "outputs": [
    {
     "name": "stdout",
     "output_type": "stream",
     "text": [
      "50\n"
     ]
    }
   ],
   "source": [
    "Str1 = \"My name is Ali\"\n",
    "Str2 = \"Ali is my name\"\n",
    "Ratio = fuzz.ratio(Str1.lower(),Str2.lower())\n",
    "print(Ratio)\n"
   ]
  },
  {
   "cell_type": "code",
   "execution_count": 26,
   "id": "d87b3f99",
   "metadata": {},
   "outputs": [
    {
     "name": "stdout",
     "output_type": "stream",
     "text": [
      "100\n"
     ]
    }
   ],
   "source": [
    "Str1 = \"My name is Ali\"\n",
    "Str2 = \"My name is Ali Abdaal\"\n",
    "print(fuzz.partial_ratio(Str1.lower(),Str2.lower()))"
   ]
  },
  {
   "cell_type": "code",
   "execution_count": 27,
   "id": "8b89cc62",
   "metadata": {},
   "outputs": [
    {
     "name": "stdout",
     "output_type": "stream",
     "text": [
      "100\n"
     ]
    }
   ],
   "source": [
    "Str1 = \"My name is Ali\"\n",
    "Str2 = \"Ali is my name\"\n",
    "print(fuzz.token_sort_ratio(Str1,Str2))"
   ]
  },
  {
   "cell_type": "code",
   "execution_count": null,
   "id": "fd253632",
   "metadata": {},
   "outputs": [],
   "source": []
  }
 ],
 "metadata": {
  "kernelspec": {
   "display_name": "Python 3 (ipykernel)",
   "language": "python",
   "name": "python3"
  },
  "language_info": {
   "codemirror_mode": {
    "name": "ipython",
    "version": 3
   },
   "file_extension": ".py",
   "mimetype": "text/x-python",
   "name": "python",
   "nbconvert_exporter": "python",
   "pygments_lexer": "ipython3",
   "version": "3.10.9"
  }
 },
 "nbformat": 4,
 "nbformat_minor": 5
}
